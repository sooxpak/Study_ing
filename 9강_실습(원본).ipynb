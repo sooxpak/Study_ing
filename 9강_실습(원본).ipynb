{
  "nbformat": 4,
  "nbformat_minor": 0,
  "metadata": {
    "colab": {
      "provenance": [],
      "include_colab_link": true
    },
    "kernelspec": {
      "name": "python3",
      "display_name": "Python 3"
    },
    "language_info": {
      "name": "python"
    }
  },
  "cells": [
    {
      "cell_type": "markdown",
      "metadata": {
        "id": "view-in-github",
        "colab_type": "text"
      },
      "source": [
        "<a href=\"https://colab.research.google.com/github/sooxpak/Study_ing/blob/main/9%EA%B0%95_%EC%8B%A4%EC%8A%B5(%EC%9B%90%EB%B3%B8).ipynb\" target=\"_parent\"><img src=\"https://colab.research.google.com/assets/colab-badge.svg\" alt=\"Open In Colab\"/></a>"
      ]
    },
    {
      "cell_type": "markdown",
      "source": [
        "# 9강 1절"
      ],
      "metadata": {
        "id": "CAj_VKRq4Mhy"
      }
    },
    {
      "cell_type": "markdown",
      "source": [
        "**원뿔 부피 계산 함수 정의**"
      ],
      "metadata": {
        "id": "-0FrgkDm_YRK"
      }
    },
    {
      "cell_type": "code",
      "execution_count": 12,
      "metadata": {
        "id": "OhGWjvMSf_uP",
        "colab": {
          "base_uri": "https://localhost:8080/"
        },
        "outputId": "d7c3c559-9896-4379-8cf9-fcca40de9846"
      },
      "outputs": [
        {
          "output_type": "stream",
          "name": "stdout",
          "text": [
            "2093.333             입니다.\n"
          ]
        }
      ],
      "source": [
        "def rtn_cone_vol(r, h) :\n",
        "    if r > 0 and h > 0 :\n",
        "        # r, h 모두 양수일 때\n",
        "        vol = 1/3 * 3.14 * r ** 2 * h\n",
        "        return vol\n",
        "\n",
        "    else :\n",
        "        # r, h가 음수일 때\n",
        "        print(\"반지름과 높이 값에 양수를 입력하세요\")\n",
        "\n",
        "print(format(rtn_cone_vol(10, 20), \"<20.3f\"), \"입니다.\")"
      ]
    },
    {
      "cell_type": "markdown",
      "source": [
        "**원뿔 부피 계산 함수 호출**"
      ],
      "metadata": {
        "id": "ygj-h_dt_elG"
      }
    },
    {
      "cell_type": "code",
      "source": [
        "def rtn_cone_vol_surf(r, h) :\n",
        "    if r > 0 and h > 0 :\n",
        "        # r, h 모두 양수일 때\n",
        "        vol = 1/3 * 3.14 * r ** 2 * h\n",
        "        surf = 3.14 * r ** 2 + 3.14 * r * h\n",
        "        return vol, surf\n",
        "\n",
        "    else :\n",
        "        # r, h가 음수일 때\n",
        "        print(\"반지름과 높이 값에 양수를 입력하세요\")\n",
        "\n",
        "vol1, surf1 = rtn_cone_vol_surf(50, 100)\n",
        "print(vol1, \"입니다.\")\n",
        "print(surf1, \"입니다.\")"
      ],
      "metadata": {
        "id": "Kgl7g457gFnj",
        "colab": {
          "base_uri": "https://localhost:8080/"
        },
        "outputId": "b295dce3-d5ce-4261-8aab-aeafa3e495d0"
      },
      "execution_count": 23,
      "outputs": [
        {
          "output_type": "stream",
          "name": "stdout",
          "text": [
            "261666.66666666666 입니다.\n",
            "23550.0 입니다.\n"
          ]
        }
      ]
    },
    {
      "cell_type": "markdown",
      "source": [
        "**숫자를 입력받고 역순으로 출력하는 함수를 사용한 프로그램 문제**"
      ],
      "metadata": {
        "id": "3T0GpqYK_jXA"
      }
    },
    {
      "cell_type": "code",
      "source": [],
      "metadata": {
        "id": "nsHHCmKB_pnQ"
      },
      "execution_count": null,
      "outputs": []
    },
    {
      "cell_type": "markdown",
      "source": [
        "# 9강 2절"
      ],
      "metadata": {
        "id": "bw1IBTsp4wMv"
      }
    },
    {
      "cell_type": "markdown",
      "source": [
        "**원뿔 부피 계산 결과 반환 함수 정의**"
      ],
      "metadata": {
        "id": "454aKvSdAI2a"
      }
    },
    {
      "cell_type": "code",
      "source": [],
      "metadata": {
        "id": "X8lfqqRBAQfV"
      },
      "execution_count": null,
      "outputs": []
    },
    {
      "cell_type": "markdown",
      "source": [
        "**원뿔 부피 및 겉넓이 반환 함수 정의**"
      ],
      "metadata": {
        "id": "Ae2D5Cal_szh"
      }
    },
    {
      "cell_type": "code",
      "source": [],
      "metadata": {
        "id": "cwZ6g1au45RD"
      },
      "execution_count": null,
      "outputs": []
    },
    {
      "cell_type": "markdown",
      "source": [
        "**세 개의 사용자 입력을 오름차순으로 정렬하는 함수를 이용하여 정렬된 값을 출력하는 문제**\n"
      ],
      "metadata": {
        "id": "0FMNpd_4Ah9j"
      }
    },
    {
      "cell_type": "code",
      "source": [
        "a = int(input(\"첫번째 숫자를 입력하세요: \"))\n",
        "b = int(input(\"첫번째 숫자를 입력하세요: \"))\n",
        "c = int(input(\"첫번째 숫자를 입력하세요: \"))\n",
        "\n",
        "def sort3(a, b, c) :"
      ],
      "metadata": {
        "id": "toh-zjeLArWn"
      },
      "execution_count": null,
      "outputs": []
    },
    {
      "cell_type": "markdown",
      "source": [
        "# 9강 3절"
      ],
      "metadata": {
        "id": "7qOMFABd4y1t"
      }
    },
    {
      "cell_type": "markdown",
      "source": [
        "**값의 전달**"
      ],
      "metadata": {
        "id": "pVwxXsFLBCY-"
      }
    },
    {
      "cell_type": "code",
      "source": [],
      "metadata": {
        "id": "cwoR_CQp45ti"
      },
      "execution_count": null,
      "outputs": []
    },
    {
      "cell_type": "markdown",
      "source": [
        "**변수의 스코프**"
      ],
      "metadata": {
        "id": "Wybq2K3yBJ8C"
      }
    },
    {
      "cell_type": "code",
      "source": [],
      "metadata": {
        "id": "6ZuNFN9BBWKR"
      },
      "execution_count": null,
      "outputs": []
    },
    {
      "cell_type": "markdown",
      "source": [
        "**단위 원뿔(반지름 20, 높이 30)의 부피와 겉넓이를 출력하는 문제**"
      ],
      "metadata": {
        "id": "YDpFj9zqBL35"
      }
    },
    {
      "cell_type": "code",
      "source": [
        "# 원뿔 계산 함수 정의\n",
        "def prt_cone_vol_surf(r, h) :\n",
        "    if r > 0 and h > 0 :\n",
        "        # r, h 모두 양수일 때\n",
        "        vol = 1/3 * 3.14 * r ** 2 * h\n",
        "        suf = 3.14 * r ** 2 + 3.14 * r * h\n",
        "        return vol, surf\n",
        "    else :\n",
        "        # r, h가 음수일 때\n",
        "        print(\"반지름과 높이 값에 양수를 입력하세요\")\n"
      ],
      "metadata": {
        "id": "mzWTObQdBXHc"
      },
      "execution_count": null,
      "outputs": []
    },
    {
      "cell_type": "markdown",
      "source": [
        "**여러개의 수를 입력받고 합과 평균을 반환하는는 var_sum_avg 함수를 사용하여, (20, 25, 10, 85, 100, 150)에 대한 합과 평균을 출력하는 프로그램을 작성하시오.**\n"
      ],
      "metadata": {
        "id": "WqqJAJ0ACOjj"
      }
    },
    {
      "cell_type": "code",
      "source": [],
      "metadata": {
        "id": "GDZkR-SKCVth"
      },
      "execution_count": null,
      "outputs": []
    }
  ]
}