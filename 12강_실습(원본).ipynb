{
  "nbformat": 4,
  "nbformat_minor": 0,
  "metadata": {
    "colab": {
      "provenance": [],
      "include_colab_link": true
    },
    "kernelspec": {
      "name": "python3",
      "display_name": "Python 3"
    },
    "language_info": {
      "name": "python"
    }
  },
  "cells": [
    {
      "cell_type": "markdown",
      "metadata": {
        "id": "view-in-github",
        "colab_type": "text"
      },
      "source": [
        "<a href=\"https://colab.research.google.com/github/sooxpak/Study_ing/blob/main/12%EA%B0%95_%EC%8B%A4%EC%8A%B5(%EC%9B%90%EB%B3%B8).ipynb\" target=\"_parent\"><img src=\"https://colab.research.google.com/assets/colab-badge.svg\" alt=\"Open In Colab\"/></a>"
      ]
    },
    {
      "cell_type": "markdown",
      "source": [
        "# 12강 실습"
      ],
      "metadata": {
        "id": "gsIqze9Vyw5b"
      }
    },
    {
      "cell_type": "markdown",
      "source": [
        "**12강 1절**"
      ],
      "metadata": {
        "id": "bQcXLxROy7C_"
      }
    },
    {
      "cell_type": "markdown",
      "source": [
        "'Khan.txt' 파일을 읽고 처리하는 프로그램을 작성하시오."
      ],
      "metadata": {
        "id": "CMTsz70kzLeS"
      }
    },
    {
      "cell_type": "code",
      "source": [
        "khan_fp = open(\"Khan.txt\", \"r\")\n",
        "\n",
        "for motto in khan_fp.readlines():\n",
        "    print(motto.strip())\n",
        "\n",
        "khan_fp.close()"
      ],
      "metadata": {
        "id": "4zO_vRLMbMvq",
        "outputId": "b73e562f-f2af-4f47-9273-412ab49e068b",
        "colab": {
          "base_uri": "https://localhost:8080/"
        }
      },
      "execution_count": 8,
      "outputs": [
        {
          "output_type": "stream",
          "name": "stdout",
          "text": [
            "1. 두려우면 실행하지 말라, 만약 실행한다면 두려워하지 말라.\n",
            "2. 최고라고 잘난 체하지 말라. 아무리 높은 산이라도 그 산에는 짐승이 산다. 그 짐승이 산꼭대기에 올라가면 산보다 더 높아진다.\n",
            "3. 나는 사치를 싫어하고 절제를 실천하며 살아왔다. 좋은 옷을 입고, 빠른 말을 타고, 아름다운 여자들을 거느리면 자신의 전망이나 목표를 잊기 쉽다. 그런 사람은 노예나 다름없으며 반드시 모든 것을 잃게 된다.\n",
            "4. 리더는 말을 많이 해선 안 된다. 말이 아니라 행동을 통해 자신의 생각을 보여줘야 한다. 지도자는 백성이 행복해지기 전에는 결코 행복해질 수 없다.\n",
            "5. 화가 나서 하는 일은 무조건 실패하게 돼 있다.\n",
            "6. 자만심을 누르는 것은 사자를 제압하는 것보다 어려우며, 분노를 이기는 것은 가장 힘센 씨름 선수를 이기는 것보다 어렵다.\n",
            "7. 군대는 전술과 전력만 우월하면 정복할 수 있다. 그러나 나라는 사람들의 마음을 얻어야 정복할 수 있다.\n",
            "8. 말 위에서 세상을 정복하는 것은 쉽다. 어려운 것은 말에서 내려와 지배하는 것이다.\n",
            "9. 나의 부하 예순베이는 아무리 싸워도 지치지 않는다. 그래서 다른 사람도 자기처럼 오래 싸우는 것을 당연하게 여기고 자기만큼 못하면 버럭 화를 낸다. 그런 사람은 절대 지도자가 될 수 없다.\n",
            "10. 성벽의 위력은 그것을 지키는 사람의 용기 이상도, 이하도 아니다.\n"
          ]
        }
      ]
    },
    {
      "cell_type": "markdown",
      "source": [
        "**12강 2절**"
      ],
      "metadata": {
        "id": "550wwIWMy_Fn"
      }
    },
    {
      "cell_type": "markdown",
      "source": [
        "\"hamlet_by_Shakespeare.txt\" 파일에 포함된 단어와 각 단어의 출현 횟수를 출력하는 프로그램을 작성하시오"
      ],
      "metadata": {
        "id": "ul20N9_MzMGh"
      }
    },
    {
      "cell_type": "code",
      "source": [
        "khan_fp = open(\"Khan.txt\", \"a\")\n",
        "\n",
        "khan_fp.write(\"칭기스 칸-\")\n",
        "\n",
        "khan_fp.close()"
      ],
      "metadata": {
        "id": "8W-PtRGznDE7"
      },
      "execution_count": null,
      "outputs": []
    },
    {
      "cell_type": "markdown",
      "source": [
        "'hamlet_by_Shakespeare.txt' 파일에 포함된 단어 중 출현한 횟수가 100 이상되는 단어와 출력 횟수를 출력하는 프로그램을 작성하시오\n"
      ],
      "metadata": {
        "id": "5ui2teFoHcsF"
      }
    },
    {
      "cell_type": "code",
      "source": [],
      "metadata": {
        "id": "8hkroqVlX69s"
      },
      "execution_count": null,
      "outputs": []
    }
  ]
}